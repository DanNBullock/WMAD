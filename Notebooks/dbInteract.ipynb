{
 "cells": [
  {
   "cell_type": "markdown",
   "id": "ea972948",
   "metadata": {},
   "source": [
    "[intro]"
   ]
  },
  {
   "cell_type": "code",
   "execution_count": 1,
   "id": "a559f583",
   "metadata": {},
   "outputs": [
    {
     "data": {
      "application/javascript": [
       "require.config({\n",
       "    paths: {\n",
       "        datatables: 'https://cdn.datatables.net/1.10.19/js/jquery.dataTables.min',\n",
       "    }\n",
       "});\n",
       "\n",
       "$('head').append('<link rel=\"stylesheet\" type=\"text/css\" \\\n",
       "                href = \"https://cdn.datatables.net/1.10.19/css/jquery.dataTables.min.css\" > ');\n",
       "\n",
       "$('head').append('<style> table td { text-overflow: ellipsis; overflow: hidden; } </style>');\n",
       "\n",
       "$('head').append(`<script>\n",
       "function eval_functions(map_or_text) {\n",
       "    if (typeof map_or_text === \"string\") {\n",
       "        if (map_or_text.startsWith(\"function\")) {\n",
       "            try {\n",
       "                // Note: parenthesis are required around the whole expression for eval to return a value!\n",
       "                // See https://stackoverflow.com/a/7399078/911298.\n",
       "                //\n",
       "                // eval(\"local_fun = \" + map_or_text) would fail because local_fun is not declared\n",
       "                // (using var, let or const would work, but it would only be declared in the local scope\n",
       "                // and therefore the value could not be retrieved).\n",
       "                const func = eval(\"(\" + map_or_text + \")\");\n",
       "                if (typeof func !== \"function\") {\n",
       "                    // Note: backquotes are super convenient!\n",
       "                    // https://developer.mozilla.org/en-US/docs/Web/JavaScript/Reference/Template_literals\n",
       "                    console.error(\"Evaluated expression \" + map_or_text + \" is not a function (type is \" + typeof func + \")\");\n",
       "                    return map_or_text;\n",
       "                }\n",
       "                // Return the function\n",
       "                return func;\n",
       "            } catch (e) {\n",
       "                // Make sure to print the error with a second argument to console.error().\n",
       "                console.error(\"itables was not able to parse \" + map_or_text, e);\n",
       "            }\n",
       "        }\n",
       "    } else if (typeof map_or_text === \"object\") {\n",
       "        if (map_or_text instanceof Array) {\n",
       "            // Note: \"var\" is now superseded by \"let\" and \"const\".\n",
       "            // https://medium.com/javascript-scene/javascript-es6-var-let-or-const-ba58b8dcde75\n",
       "            const result = [];\n",
       "            // Note: \"for of\" is the best way to iterate through an iterable.\n",
       "            // https://developer.mozilla.org/en-US/docs/Web/JavaScript/Reference/Statements/for...of\n",
       "            for (const item of map_or_text) {\n",
       "                result.push(eval_functions(item));\n",
       "            }\n",
       "            return result;\n",
       "\n",
       "            // Alternatively, more functional approach in one line:\n",
       "            // return map_or_text.map(eval_functions);\n",
       "        } else {\n",
       "            const result = {};\n",
       "            // Object.keys() is safer than \"for in\" because otherwise you might have keys\n",
       "            // that aren't defined in the object itself.\n",
       "            //\n",
       "            // See https://stackoverflow.com/a/684692/911298.\n",
       "            for (const item of Object.keys(map_or_text)) {\n",
       "                result[item] = eval_functions(map_or_text[item]);\n",
       "            }\n",
       "            return result;\n",
       "        }\n",
       "    }\n",
       "\n",
       "    return map_or_text;\n",
       "}\n",
       "\n",
       "</` + 'script>');"
      ],
      "text/plain": [
       "<IPython.core.display.Javascript object>"
      ]
     },
     "metadata": {},
     "output_type": "display_data"
    },
    {
     "data": {
      "text/html": [
       "<div><table id=\"2e45c749-99ed-43aa-8895-ba58265d5571\" class=\"display\"><thead>\n",
       "    <tr style=\"text-align: right;\">\n",
       "      \n",
       "      <th>title</th>\n",
       "      <th>firstAuthor</th>\n",
       "      <th>year</th>\n",
       "      <th>numOfTracts</th>\n",
       "      <th>curator</th>\n",
       "    </tr>\n",
       "  </thead></table>\n",
       "<script type=\"text/javascript\">\n",
       "require([\"datatables\"], function (datatables) {\n",
       "    $(document).ready(function () {\n",
       "        var dt_args = {\"columnDefs\": [{\"width\": \"70px\", \"targets\": \"_all\"}], \"paging\": false, \"data\": [[\"Estimating Fiber Orientation Distribution Functions in 3D-Polarized Light Imaging\", \"Markus Axer\", 2016, 6, \"Sylvie Bindas\"], [\"Associative white matter connecting the dorsal and ventral posterior human cortex\", \"Daniel Bullock\", 2019, 8, \"Daniel Bullock\"], [\"Anatomo-functional study of the temporo-parieto-occipital region: dissection, tractographic and brain mapping evidence from a neurosurgical perspective\", \"Alessandro De Benedictis\", 2014, 8, \"Elena Hayday\"], [\"Dissociating the Human Language Pathways with High Angular Resolution Diffusion Fiber Tractography\", \"S. Frey\", 2008, 7, \"Elena Hayday\"], [\"Tracing superior longitudinal fasciculus connectivity in the human brain using high resolution diffusion tensor tractography\", \"Arash Kamali\", 2013, 11, \"Elena Hayday\"], [\"Delineation of the Middle Longitudinal Fascicle in Humans: A Quantitative, In Vivo, DT-MRI Study\", \"N. Makris\", 2008, 3, \"Sylvie Bindas\"], [\"Elucidation of White Matter Tracts of the Human Amygdala by Detailed Comparison between High-Resolution Postmortem Magnetic Resonance Imaging and Histology\", \"Susumu Mori\", 2017, 9, \"Sylvie Bindas\"], [\"Tracing short connections of the temporo-parieto-occipital region in the human brain using diffusion spectrum imaging and fiber dissection\", \"Yupeng Wu\", 2016, 6, \"Elena Hayday\"]]};\n",
       "        dt_args = eval_functions(dt_args);\n",
       "        table = $('#2e45c749-99ed-43aa-8895-ba58265d5571').DataTable(dt_args);\n",
       "    });\n",
       "})\n",
       "</script>\n",
       "</div>\n"
      ],
      "text/plain": [
       "<IPython.core.display.HTML object>"
      ]
     },
     "metadata": {},
     "output_type": "display_data"
    }
   ],
   "source": [
    "import subprocess\n",
    "import pandas as pd\n",
    "import itables\n",
    "import os\n",
    "import json\n",
    "from ipywidgets import Dropdown\n",
    "from ipywidgets import IntSlider\n",
    "from ipywidgets import interact, interactive, fixed, interact_manual\n",
    "import glob\n",
    "from IPython.core.display import Image, display\n",
    "\n",
    "\n",
    "#get top directory path of the current git repository, under the presumption that \n",
    "#the notebook was launched from within the repo directory\n",
    "gitRepoPath=subprocess.check_output(['git', 'rev-parse', '--show-toplevel']).decode('ascii').strip()\n",
    "\n",
    "#move to the top of the directory\n",
    "os.chdir(gitRepoPath)\n",
    "\n",
    "#load the WMADB JSON\n",
    "with open(os.path.join('dbStore','WMAnatDB.json')) as json_data:\n",
    "    WMAnatDB = json.load(json_data)\n",
    "    \n",
    "#build components of pandas spreadsheet\n",
    "import pandas as pd\n",
    "#stored as dict key pairing\n",
    "#dois=[WMAnatDB[x]['doi']['1'] for x in WMAnatDB.keys()]\n",
    "#stored as dict key pairing\n",
    "curators=[WMAnatDB[x]['curator']['1'] for x in WMAnatDB.keys()]\n",
    "#stored as list\n",
    "titles=[WMAnatDB[x]['title'][0] for x in WMAnatDB.keys()]\n",
    "tractNums=[len(WMAnatDB[x]['tractDepictions']) for x in WMAnatDB.keys()]\n",
    "years=[WMAnatDB[x]['published']['date-parts'][0][0] for x in WMAnatDB.keys()]\n",
    "authors=[WMAnatDB[x]['author'][0]['given'] + ' ' + WMAnatDB[x]['author'][0]['family'] for x in WMAnatDB.keys()]\n",
    "\n",
    "#make the spreadsheet\n",
    "dataStructure={'title': titles, 'firstAuthor': authors, 'year': years, 'numOfTracts': tractNums, 'curator': curators}\n",
    "overviewFrame=pd.DataFrame(data=dataStructure)\n",
    "\n",
    "#use itables to make it nice and interactive\n",
    "import itables\n",
    "itables.show(overviewFrame)"
   ]
  },
  {
   "cell_type": "code",
   "execution_count": 4,
   "id": "5953c58f",
   "metadata": {},
   "outputs": [
    {
     "data": {
      "application/vnd.jupyter.widget-view+json": {
       "model_id": "b6428ab1c9c140c282daee8bfe3bba0f",
       "version_major": 2,
       "version_minor": 0
      },
      "text/plain": [
       "interactive(children=(Dropdown(description='Article Title Stem', index=1, options=(('Estimating Fiber Orientat…"
      ]
     },
     "metadata": {},
     "output_type": "display_data"
    },
    {
     "data": {
      "text/plain": [
       "<function pyWMAD.DB_JSONparsing.extractTractFigureDB(articleIndex, tractIndex, figIndex)>"
      ]
     },
     "execution_count": 4,
     "metadata": {},
     "output_type": "execute_result"
    }
   ],
   "source": [
    "#create title stems or dropdown menu\n",
    "titleStems=[WMAnatDB[x]['title'][0][0:50] for x in WMAnatDB.keys()]\n",
    "#create a index pairing\n",
    "dropDownDocList=list(zip(titleStems, list(range(len(titleStems)))))\n",
    "listIndex=Dropdown(options=dropDownDocList, value=1, description=\"Article Title Stem\")\n",
    "\n",
    "def changeDoc(*args):\n",
    "    tractIndex.options=list(zip( \\\n",
    "                    [WMAnatDB[list(WMAnatDB.keys())[listIndex.value]]['tractDepictions'][x]['tractTermsUsed']['1'] for x in list(WMAnatDB[list(WMAnatDB.keys())[listIndex.value]]['tractDepictions'].keys())], \\\n",
    "                    list(range(len([WMAnatDB[list(WMAnatDB.keys())[listIndex.value]]['tractDepictions'][x]['tractTermsUsed']['1'] for x in list(WMAnatDB[list(WMAnatDB.keys())[listIndex.value]]['tractDepictions'].keys())]))) \\\n",
    "                    ))\n",
    "listIndex.observe(changeDoc, 'value')\n",
    "\n",
    "#absolutely _brutal_ way to make option list from the DB\n",
    "tractIndex=Dropdown(options= list(zip( \\\n",
    "                    [WMAnatDB[list(WMAnatDB.keys())[listIndex.value]]['tractDepictions'][x]['tractTermsUsed']['1'] for x in list(WMAnatDB[list(WMAnatDB.keys())[listIndex.value]]['tractDepictions'].keys())], \\\n",
    "                    list(range(len([WMAnatDB[list(WMAnatDB.keys())[listIndex.value]]['tractDepictions'][x]['tractTermsUsed']['1'] for x in list(WMAnatDB[list(WMAnatDB.keys())[listIndex.value]]['tractDepictions'].keys())]))) \\\n",
    "                    )), value=2, description=\"tractNames\")\n",
    "\n",
    "def changeTract(*args):\n",
    "    figureSlider.max=len(WMAnatDB[list(WMAnatDB.keys())[listIndex.value]]['tractDepictions'][list(WMAnatDB[list(WMAnatDB.keys())[listIndex.value]]['tractDepictions'].keys())[tractIndex.value]]['figures'])\n",
    "    descripSlider.max=len(WMAnatDB[list(WMAnatDB.keys())[listIndex.value]]['tractDepictions'][list(WMAnatDB[list(WMAnatDB.keys())[listIndex.value]]['tractDepictions'].keys())[tractIndex.value]]['descriptions'])                   \n",
    "\n",
    "tractIndex.observe(changeTract, 'value')\n",
    "    \n",
    "figureSlider=IntSlider( value=1, min=1, max= \\\n",
    "                       len(WMAnatDB[list(WMAnatDB.keys())[listIndex.value]]['tractDepictions'][list(WMAnatDB[list(WMAnatDB.keys())[listIndex.value]]['tractDepictions'].keys())[tractIndex.value]]['figures']), \\\n",
    "                       step=1, description='Figure Index', continuous_update=False)\n",
    "\n",
    "descripSlider=IntSlider( value=1, min=1, max= \\\n",
    "                       len(WMAnatDB[list(WMAnatDB.keys())[listIndex.value]]['tractDepictions'][list(WMAnatDB[list(WMAnatDB.keys())[listIndex.value]]['tractDepictions'].keys())[tractIndex.value]]['descriptions']), \\\n",
    "                       step=1, description='Description Index', continuous_update=False)\n",
    "\n",
    "def displayInteractFigure(articleIndex, tractIndex, figIndex):\n",
    "    from pyWMAD import DB_JSONparsing\n",
    "    figOut=DB_JSONparsing.extractTractFigureDB\n",
    "from pyWMAD import DB_JSONparsing\n",
    "interact(DB_JSONparsing.extractTractFigureDB, articleIndex=listIndex, tractIndex=tractIndex, figIndex=figureSlider)\n",
    "\n"
   ]
  },
  {
   "cell_type": "code",
   "execution_count": 5,
   "id": "df43ad4e",
   "metadata": {},
   "outputs": [
    {
     "data": {
      "application/vnd.jupyter.widget-view+json": {
       "model_id": "5f59925461de477bb43eb81a51ca81c0",
       "version_major": 2,
       "version_minor": 0
      },
      "text/plain": [
       "interactive(children=(Dropdown(description='Article Title Stem', index=1, options=(('Estimating Fiber Orientat…"
      ]
     },
     "metadata": {},
     "output_type": "display_data"
    },
    {
     "data": {
      "text/plain": [
       "<function pyWMAD.DB_JSONparsing.extractTractDescriptionDB(articleIndex, tractIndex, descripIndex)>"
      ]
     },
     "execution_count": 5,
     "metadata": {},
     "output_type": "execute_result"
    }
   ],
   "source": [
    "interact(DB_JSONparsing.extractTractDescriptionDB, articleIndex=listIndex, tractIndex=tractIndex, descripIndex=descripSlider)\n"
   ]
  },
  {
   "cell_type": "code",
   "execution_count": 4,
   "id": "500f984e",
   "metadata": {},
   "outputs": [
    {
     "data": {
      "text/plain": [
       "'D:\\\\Documents\\\\gitDir\\\\WMAD'"
      ]
     },
     "execution_count": 4,
     "metadata": {},
     "output_type": "execute_result"
    }
   ],
   "source": [
    "pwd"
   ]
  },
  {
   "cell_type": "code",
   "execution_count": null,
   "id": "cee3532d",
   "metadata": {},
   "outputs": [],
   "source": []
  }
 ],
 "metadata": {
  "kernelspec": {
   "display_name": "Python 3",
   "language": "python",
   "name": "python3"
  },
  "language_info": {
   "codemirror_mode": {
    "name": "ipython",
    "version": 3
   },
   "file_extension": ".py",
   "mimetype": "text/x-python",
   "name": "python",
   "nbconvert_exporter": "python",
   "pygments_lexer": "ipython3",
   "version": "3.9.6"
  }
 },
 "nbformat": 4,
 "nbformat_minor": 5
}
