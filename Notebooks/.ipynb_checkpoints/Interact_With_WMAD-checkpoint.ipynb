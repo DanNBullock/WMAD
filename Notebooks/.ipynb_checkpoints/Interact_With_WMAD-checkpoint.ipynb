{
 "cells": [
  {
   "cell_type": "markdown",
   "id": "ea972948",
   "metadata": {},
   "source": [
    "# White Matter Anatomy Database (WMAD)\n",
    "\n",
    "## Introduction\n",
    "In this notebook we will demonstrate interaction with the White Matter Anatomy Database.  In this preliminary phase, we are utilizing a jupyter notebook, as run in a [binder](https://mybinder.org/), likeley run from a [jupyterbook](https://jupyterbook.org/intro.html) website.\n",
    "\n",
    "## Database contents\n",
    "After running this first cell, you should obtain a spreadsheet-based overview of the articles currently curated by the database.  Each of the relevant columns is searchable, so you should be able to locate an article based upon characteristics like title, first author, publication year, number of tracts discussed, and the curator.\n",
    "\n",
    "Note:  running all of these cells at once will not return a desirable result, as this notebook will attempt to parse and visualize every description and figure entry in the database.  Use the subsequent two interactive spreadsheets to perform a search and thereby narrow your querry."
   ]
  },
  {
   "cell_type": "code",
   "execution_count": 1,
   "id": "a559f583",
   "metadata": {},
   "outputs": [
    {
     "data": {
      "application/vnd.jupyter.widget-view+json": {
       "model_id": "f3c0ab0a7fcf4740b8a69f0461975767",
       "version_major": 2,
       "version_minor": 0
      },
      "text/plain": [
       "QgridWidget(grid_options={'fullWidthRows': True, 'syncColumnCellResize': True, 'forceFitColumns': True, 'defau…"
      ]
     },
     "metadata": {},
     "output_type": "display_data"
    }
   ],
   "source": [
    "import subprocess\n",
    "import os\n",
    "\n",
    "#get top directory path of the current git repository, under the presumption that \n",
    "#the notebook was launched from within the repo directory\n",
    "gitRepoPath=subprocess.check_output(['git', 'rev-parse', '--show-toplevel']).decode('ascii').strip()\n",
    "\n",
    "#move to the top of the directory\n",
    "os.chdir(gitRepoPath)\n",
    "\n",
    "import json\n",
    "#load the WMADB JSON\n",
    "with open(os.path.join('dbStore','WMAnatDB.json')) as json_data:\n",
    "    WMAnatDB = json.load(json_data)\n",
    "    \n",
    "#build components of pandas spreadsheet\n",
    "import pandas as pd\n",
    "curators=[WMAnatDB[x]['curator']['1'] for x in WMAnatDB.keys()]\n",
    "titles=[WMAnatDB[x]['title'][0] for x in WMAnatDB.keys()]\n",
    "tractNums=[len(WMAnatDB[x]['tractDepictions']) for x in WMAnatDB.keys()]\n",
    "years=[WMAnatDB[x]['published']['date-parts'][0][0] for x in WMAnatDB.keys()]\n",
    "authors=[WMAnatDB[x]['author'][0]['given'] + ' ' + WMAnatDB[x]['author'][0]['family'] for x in WMAnatDB.keys()]\n",
    "\n",
    "#make the spreadsheet\n",
    "dataStructure={'title': titles, 'firstAuthor': authors, 'year': years, 'numOfTracts': tractNums, 'curator': curators}\n",
    "overviewFrame=pd.DataFrame(data=dataStructure)\n",
    "\n",
    "#use itables to make it nice and interactive\n",
    "import qgrid\n",
    "qgrid_widget= qgrid.show_grid(overviewFrame,show_toolbar=True)\n",
    "qgrid_widget"
   ]
  },
  {
   "cell_type": "markdown",
   "id": "445a4789",
   "metadata": {},
   "source": [
    "## Performing an interactive search\n",
    "Now that we have gotten a sense of the articles included in the database, we can now search the database for discussions of particular tracts we are interested in.  In additon to the previous categories that we considered, we can now also search in any of the following information categories:\n",
    "\n",
    "- **species**: the species of interest in the study.\n",
    "- **methods**: the investigative approach(es) used in the study.\n",
    "- **tractTermsUsed**: the terminology used to refer to the structure of interest.\n",
    "\n",
    "The [qgrid](https://github.com/quantopian/qgrid) interface allows you to narrow the structures under consideration to those meeting the criteria you specify.  These can include any combination of the aforementioned characteristics.  Be sure to click the appropriate boxes in the search fields in order to impose your search criteria\n",
    "\n",
    "Once you have completed your query, you then move on to the subsequent cells to view those relevant portions of text or view figures depicting the structure(s) of interst.\n",
    "\n",
    "NOTE: should you wish to perform another query, return to the cell below, and select new criteria, then run the subsequent cells once more."
   ]
  },
  {
   "cell_type": "code",
   "execution_count": 2,
   "id": "83fc1885",
   "metadata": {},
   "outputs": [
    {
     "data": {
      "application/vnd.jupyter.widget-view+json": {
       "model_id": "1a6abe2d4faf4ecda1f3d178c970cf03",
       "version_major": 2,
       "version_minor": 0
      },
      "text/plain": [
       "QgridWidget(grid_options={'fullWidthRows': True, 'syncColumnCellResize': True, 'forceFitColumns': True, 'defau…"
      ]
     },
     "metadata": {},
     "output_type": "display_data"
    }
   ],
   "source": [
    "def unpackEntry(dfEntry):\n",
    "    #this function unpacks entries in the dataframe for clarity and conciseness\n",
    "    if type(dfEntry)==dict:\n",
    "        #for the columns we have specified, we do not care about the keys used, they are just placeholders\n",
    "        dfEntry=list(dfEntry.values())\n",
    "    if type(dfEntry)==list and len(dfEntry)>1:\n",
    "        #if it's a list of multiple items, concat them\n",
    "        dfEntry=' '.join(dfEntry)\n",
    "    if type(dfEntry)==list and len(dfEntry)==1:\n",
    "        #if it's a list of length 1, just unpack it\n",
    "        dfEntry=dfEntry[0]\n",
    "        #if it's just a string, we probably want it left the way it is\n",
    "    return dfEntry\n",
    "\n",
    "def unpackArticleJSONtoPdDF(articleJSONDict):\n",
    "    #this function unpacks an article such that there are n rows (with duplicated information)\n",
    "    #in the output dataframe, where n is the number of tracts in the tractDepictions record\n",
    "    #unpack heighest tier of json dictionary\n",
    "    dfBaseRow=pd.json_normalize(articleJSONDict,max_level=0)\n",
    "    #unpack the entries for each tract\n",
    "    expandedDepictions=pd.json_normalize(dfBaseRow['tractDepictions'],max_level=0)\n",
    "    #for each tract, expand to terms used, descriptions and figures\n",
    "    expandedTractDF=[pd.json_normalize(iEntries, max_level=0) for iEntries in expandedDepictions.values.tolist()]\n",
    "    \n",
    "    #create a replicated row dataframe to merge these tract entries on to\n",
    "    toMergeDF=pd.concat([dfBaseRow]*len(expandedDepictions.columns), ignore_index=True)\n",
    "    #concat them together\n",
    "    outDF=pd.concat([toMergeDF,expandedTractDF[0]],axis=1)\n",
    "    #drop the tractDepictions entry as we no longer need this\n",
    "    outDF=outDF.drop('tractDepictions',axis=1)\n",
    "    \n",
    "    #finally, convert the dictionaries in the relevant columns into lists\n",
    "    #these are the columns we wish to convert\n",
    "    columnsToConvert=['curator','doi','species','methods','published','title','container-title','tractTermsUsed']\n",
    "    for iColumnsToConvert in columnsToConvert:   \n",
    "        outDF[iColumnsToConvert]=outDF[iColumnsToConvert].map(lambda x: unpackEntry(x) ) \n",
    "    #convert descriptions and figures to lists\n",
    "    outDF['descriptions']=outDF['descriptions'].map(lambda x: list(x.values()))\n",
    "    outDF['figures']=outDF['figures'].map(lambda x: list(x.values()))\n",
    "    return outDF\n",
    "\n",
    "#extract the article dictionary JSONs to a list\n",
    "articleListObjects=[WMAnatDB[x] for x in WMAnatDB.keys()]\n",
    "#perform the tract expansion on them\n",
    "unpackedArticleDFs=[unpackArticleJSONtoPdDF(iArticles) for iArticles in articleListObjects]\n",
    "#merge them in to one dataframe\n",
    "wholeDBDF=pd.concat(unpackedArticleDFs,axis=0,ignore_index=True)\n",
    "#just index the year for date\n",
    "wholeDBDF['published']=wholeDBDF['published'].map(lambda x: x[0][0] )\n",
    "#import qgrid and use it to view the DB\n",
    "import qgrid\n",
    "#show the informative columns\n",
    "qgrid_widget= qgrid.show_grid(wholeDBDF[['curator','title','species','methods','tractTermsUsed','published']],show_toolbar=True)\n",
    "qgrid_widget"
   ]
  },
  {
   "cell_type": "markdown",
   "id": "3f732ae8",
   "metadata": {},
   "source": [
    "### Viewing text descriptions\n",
    "\n",
    "Now that we have selected our records of interest, we can view the text descriptions or figure depictions associated with those entries.  To do so, run the subsequent cell.  Remember, if you wish to perform another query, return to the previous cell and select new criteria then rerun the subsequent cells.\n",
    "\n",
    "NOTE: In some cases a text description may not have been associated with the structure recording, and as such a record may be empty (or an error might occur)."
   ]
  },
  {
   "cell_type": "code",
   "execution_count": 3,
   "id": "066b1374",
   "metadata": {},
   "outputs": [
    {
     "data": {
      "text/html": [
       "<div>\n",
       "<style scoped>\n",
       "    .dataframe tbody tr th:only-of-type {\n",
       "        vertical-align: middle;\n",
       "    }\n",
       "\n",
       "    .dataframe tbody tr th {\n",
       "        vertical-align: top;\n",
       "    }\n",
       "\n",
       "    .dataframe thead th {\n",
       "        text-align: right;\n",
       "    }\n",
       "</style>\n",
       "<table border=\"1\" class=\"dataframe\">\n",
       "  <thead>\n",
       "    <tr style=\"text-align: right;\">\n",
       "      <th></th>\n",
       "      <th>title</th>\n",
       "      <th>descriptions</th>\n",
       "    </tr>\n",
       "  </thead>\n",
       "  <tbody>\n",
       "    <tr>\n",
       "      <th>19</th>\n",
       "      <td>Anatomo-functional study of the temporo-parieto-occipital region: dissection, tractographic and brain mapping evidence from a neurosurgical perspective</td>\n",
       "      <td>Regex search failed to return match;\\nPossible redirect issue, check host publisher's website</td>\n",
       "    </tr>\n",
       "    <tr>\n",
       "      <th>23</th>\n",
       "      <td>Anatomo-functional study of the temporo-parieto-occipital region: dissection, tractographic and brain mapping evidence from a neurosurgical perspective</td>\n",
       "      <td>Postero-superiorly, we identified the IFOF stem. In the middle part (middle trapezoid), we left in situ the EC (Fig. 4C)</td>\n",
       "    </tr>\n",
       "    <tr>\n",
       "      <th>23</th>\n",
       "      <td>Anatomo-functional study of the temporo-parieto-occipital region: dissection, tractographic and brain mapping evidence from a neurosurgical perspective</td>\n",
       "      <td>Regex search failed to return match;\\nPossible redirect issue, check host publisher's website</td>\n",
       "    </tr>\n",
       "    <tr>\n",
       "      <th>84</th>\n",
       "      <td>Tracing short connections of the temporo-parieto-occipital region in the human brain using diffusion spectrum imaging and fiber dissection</td>\n",
       "      <td>On lateral view of the hemisphere to observe the endpoints, the MdLF and IFOF were closer to the midline than the TP (Fig. 4 D E).</td>\n",
       "    </tr>\n",
       "    <tr>\n",
       "      <th>65</th>\n",
       "      <td>Elucidation of White Matter Tracts of the Human Amygdala by Detailed Comparison between High-Resolution Postmortem Magnetic Resonance Imaging and Histology</td>\n",
       "      <td>Figure 2. Coronal panels for detailed anatomical delineation of the amygdala using postmortem diffusion tensor imaging (DTI) and histology (Luxol fast blue with hematoxylin–eosin staining), compared with an example of in vivo T1 and DTI images. From the postmortem DTI data, b0, trace and color-coded orientation maps are shown at 14 coronal slice levels. Panels (A,B) were from a different postmortem coronal slab than (C–N). Panel (A) corresponds to the rostral end of the amygdala that defines 0 mm to indicate the slice separation of the subsequent panels, and panel (N) shows the caudal end (13 mm). The red bounding boxes represent a 24 × 20 mm field of view at the corresponding locations on the in vivo and postmortem images with the MNI coordinates (s, sagittal; a, axial; c, coronal). Colored arrows indicate the locations of the reconstructed white matter structures shown in Figure 3. White arrows indicate the semiannular sulcus (amygdaloid fissure) defining the medial boundary of the amygdala. Abbreviations: A, amygdala; BL, basolateral amygdaloid nucleus; BN, basal nucleus diffuse part; BM, basomedial nucleus; Ce, central nucleus; CL, claustrum; CxA, amygdalocortical transition area; EGP, external globus pallidus; Epn, endopiriform nucleus; ERC, entorhinal cortex; GP, globus pallidus; H, hippocampus; HT, hypothalamus; IGP, internal globus pallidus; LA, lateral nucleus; Me, medial nucleus; PedL, peduncle of the lentiform nucleus; Pir, piriform cortex; PL, paralaminar nucleus; Put, putamen; S, subiculum; sCLA, superficial cortex-like amygdala; SN, substantia nigra; TCd, tail of caudate; UN, uncus; VP, ventral putamen; ac, anterior commissure; al, ansa lenticularis; alv, alveus; cp, cerebral peduncle; ifo, inferior fronto-occipital fasciculus; ilf, inferior longitudinal fasciculus; li, intermediate medullary lamina; ll, lateral medullary lamina; lm, medial medullary lamina; ot, optic tract; slic, sublenticular part of the internal capsule; sls, sublenticular stria; st, stria terminalis; tap, tapetum; unc, uncinated fasciculus.</td>\n",
       "    </tr>\n",
       "    <tr>\n",
       "      <th>65</th>\n",
       "      <td>Elucidation of White Matter Tracts of the Human Amygdala by Detailed Comparison between High-Resolution Postmortem Magnetic Resonance Imaging and Histology</td>\n",
       "      <td>Throughout these areas, a limited number of white matter tracts could be clearly identified in the in vivo images, including the anterior commissure (ac), optic tract (ot) and the inferior fronto-occipital fasciculus (ifo).</td>\n",
       "    </tr>\n",
       "    <tr>\n",
       "      <th>66</th>\n",
       "      <td>Elucidation of White Matter Tracts of the Human Amygdala by Detailed Comparison between High-Resolution Postmortem Magnetic Resonance Imaging and Histology</td>\n",
       "      <td>Figure 2. Coronal panels for detailed anatomical delineation of the amygdala using postmortem diffusion tensor imaging (DTI) and histology (Luxol fast blue with hematoxylin–eosin staining), compared with an example of in vivo T1 and DTI images. From the postmortem DTI data, b0, trace and color-coded orientation maps are shown at 14 coronal slice levels. Panels (A,B) were from a different postmortem coronal slab than (C–N). Panel (A) corresponds to the rostral end of the amygdala that defines 0 mm to indicate the slice separation of the subsequent panels, and panel (N) shows the caudal end (13 mm). The red bounding boxes represent a 24 × 20 mm field of view at the corresponding locations on the in vivo and postmortem images with the MNI coordinates (s, sagittal; a, axial; c, coronal). Colored arrows indicate the locations of the reconstructed white matter structures shown in Figure 3. White arrows indicate the semiannular sulcus (amygdaloid fissure) defining the medial boundary of the amygdala. Abbreviations: A, amygdala; BL, basolateral amygdaloid nucleus; BN, basal nucleus diffuse part; BM, basomedial nucleus; Ce, central nucleus; CL, claustrum; CxA, amygdalocortical transition area; EGP, external globus pallidus; Epn, endopiriform nucleus; ERC, entorhinal cortex; GP, globus pallidus; H, hippocampus; HT, hypothalamus; IGP, internal globus pallidus; LA, lateral nucleus; Me, medial nucleus; PedL, peduncle of the lentiform nucleus; Pir, piriform cortex; PL, paralaminar nucleus; Put, putamen; S, subiculum; sCLA, superficial cortex-like amygdala; SN, substantia nigra; TCd, tail of caudate; UN, uncus; VP, ventral putamen; ac, anterior commissure; al, ansa lenticularis; alv, alveus; cp, cerebral peduncle; ifo, inferior fronto-occipital fasciculus; ilf, inferior longitudinal fasciculus; li, intermediate medullary lamina; ll, lateral medullary lamina; lm, medial medullary lamina; ot, optic tract; slic, sublenticular part of the internal capsule; sls, sublenticular stria; st, stria terminalis; tap, tapetum; unc, uncinated fasciculus.</td>\n",
       "    </tr>\n",
       "    <tr>\n",
       "      <th>66</th>\n",
       "      <td>Elucidation of White Matter Tracts of the Human Amygdala by Detailed Comparison between High-Resolution Postmortem Magnetic Resonance Imaging and Histology</td>\n",
       "      <td>Throughout these areas, a limited number of white matter tracts could be clearly identified in the in vivo images, including the anterior commissure (ac), optic tract (ot) and the inferior fronto-occipital fasciculus (ifo).</td>\n",
       "    </tr>\n",
       "    <tr>\n",
       "      <th>10</th>\n",
       "      <td>Associative white matter connecting the dorsal and ventral posterior human cortex</td>\n",
       "      <td>These canonical tracts have been widely described in other works, with the SLF constrained to the superior-medial white matter of the frontal and parietal lobes, the ILF to the temporal and occipital, the Arc connecting temporal and frontal lobes, and the IFOF spanning the occipital, temporal, and frontal white matter (Fig. 3).Consistent with previous reports (de Schotten et al. 2011; Catani and de Schotten 2012), we show canonical tracts extending posteriorly into the parietal, temporal, and occipital lobes, and anteriorly either toward prefrontal cortex [SLF, Arc (Makris et al. 2004; Martino et al. 2013b); IFOF (Martino et al. 2010a, b)] or into the anterior temporal lobe (ILF; Davis 1921).</td>\n",
       "    </tr>\n",
       "  </tbody>\n",
       "</table>\n",
       "</div>"
      ],
      "text/plain": [
       "                                                                                                                                                          title  \\\n",
       "19      Anatomo-functional study of the temporo-parieto-occipital region: dissection, tractographic and brain mapping evidence from a neurosurgical perspective   \n",
       "23      Anatomo-functional study of the temporo-parieto-occipital region: dissection, tractographic and brain mapping evidence from a neurosurgical perspective   \n",
       "23      Anatomo-functional study of the temporo-parieto-occipital region: dissection, tractographic and brain mapping evidence from a neurosurgical perspective   \n",
       "84                   Tracing short connections of the temporo-parieto-occipital region in the human brain using diffusion spectrum imaging and fiber dissection   \n",
       "65  Elucidation of White Matter Tracts of the Human Amygdala by Detailed Comparison between High-Resolution Postmortem Magnetic Resonance Imaging and Histology   \n",
       "65  Elucidation of White Matter Tracts of the Human Amygdala by Detailed Comparison between High-Resolution Postmortem Magnetic Resonance Imaging and Histology   \n",
       "66  Elucidation of White Matter Tracts of the Human Amygdala by Detailed Comparison between High-Resolution Postmortem Magnetic Resonance Imaging and Histology   \n",
       "66  Elucidation of White Matter Tracts of the Human Amygdala by Detailed Comparison between High-Resolution Postmortem Magnetic Resonance Imaging and Histology   \n",
       "10                                                                            Associative white matter connecting the dorsal and ventral posterior human cortex   \n",
       "\n",
       "                                                                                                                                                                                                                                                                                                                                                                                                                                                                                                                                                                                                                                                                                                                                                                                                                                                                                                                                                                                                                                                                                                                                                                                                                                                                                                                                                                                                                                                                                                                                                                                                                                                                                                                                                                                                                                                                                                                                                                                                                                                                                                                                    descriptions  \n",
       "19                                                                                                                                                                                                                                                                                                                                                                                                                                                                                                                                                                                                                                                                                                                                                                                                                                                                                                                                                                                                                                                                                                                                                                                                                                                                                                                                                                                                                                                                                                                                                                                                                                                                                                                                                                                                                                                                                                                                                                                                                                                 Regex search failed to return match;\\nPossible redirect issue, check host publisher's website  \n",
       "23                                                                                                                                                                                                                                                                                                                                                                                                                                                                                                                                                                                                                                                                                                                                                                                                                                                                                                                                                                                                                                                                                                                                                                                                                                                                                                                                                                                                                                                                                                                                                                                                                                                                                                                                                                                                                                                                                                                                                                                                                      Postero-superiorly, we identified the IFOF stem. In the middle part (middle trapezoid), we left in situ the EC (Fig. 4C)  \n",
       "23                                                                                                                                                                                                                                                                                                                                                                                                                                                                                                                                                                                                                                                                                                                                                                                                                                                                                                                                                                                                                                                                                                                                                                                                                                                                                                                                                                                                                                                                                                                                                                                                                                                                                                                                                                                                                                                                                                                                                                                                                                                 Regex search failed to return match;\\nPossible redirect issue, check host publisher's website  \n",
       "84                                                                                                                                                                                                                                                                                                                                                                                                                                                                                                                                                                                                                                                                                                                                                                                                                                                                                                                                                                                                                                                                                                                                                                                                                                                                                                                                                                                                                                                                                                                                                                                                                                                                                                                                                                                                                                                                                                                                                                                                            On lateral view of the hemisphere to observe the endpoints, the MdLF and IFOF were closer to the midline than the TP (Fig. 4 D E).  \n",
       "65  Figure 2. Coronal panels for detailed anatomical delineation of the amygdala using postmortem diffusion tensor imaging (DTI) and histology (Luxol fast blue with hematoxylin–eosin staining), compared with an example of in vivo T1 and DTI images. From the postmortem DTI data, b0, trace and color-coded orientation maps are shown at 14 coronal slice levels. Panels (A,B) were from a different postmortem coronal slab than (C–N). Panel (A) corresponds to the rostral end of the amygdala that defines 0 mm to indicate the slice separation of the subsequent panels, and panel (N) shows the caudal end (13 mm). The red bounding boxes represent a 24 × 20 mm field of view at the corresponding locations on the in vivo and postmortem images with the MNI coordinates (s, sagittal; a, axial; c, coronal). Colored arrows indicate the locations of the reconstructed white matter structures shown in Figure 3. White arrows indicate the semiannular sulcus (amygdaloid fissure) defining the medial boundary of the amygdala. Abbreviations: A, amygdala; BL, basolateral amygdaloid nucleus; BN, basal nucleus diffuse part; BM, basomedial nucleus; Ce, central nucleus; CL, claustrum; CxA, amygdalocortical transition area; EGP, external globus pallidus; Epn, endopiriform nucleus; ERC, entorhinal cortex; GP, globus pallidus; H, hippocampus; HT, hypothalamus; IGP, internal globus pallidus; LA, lateral nucleus; Me, medial nucleus; PedL, peduncle of the lentiform nucleus; Pir, piriform cortex; PL, paralaminar nucleus; Put, putamen; S, subiculum; sCLA, superficial cortex-like amygdala; SN, substantia nigra; TCd, tail of caudate; UN, uncus; VP, ventral putamen; ac, anterior commissure; al, ansa lenticularis; alv, alveus; cp, cerebral peduncle; ifo, inferior fronto-occipital fasciculus; ilf, inferior longitudinal fasciculus; li, intermediate medullary lamina; ll, lateral medullary lamina; lm, medial medullary lamina; ot, optic tract; slic, sublenticular part of the internal capsule; sls, sublenticular stria; st, stria terminalis; tap, tapetum; unc, uncinated fasciculus.  \n",
       "65                                                                                                                                                                                                                                                                                                                                                                                                                                                                                                                                                                                                                                                                                                                                                                                                                                                                                                                                                                                                                                                                                                                                                                                                                                                                                                                                                                                                                                                                                                                                                                                                                                                                                                                                                                                                                                                                                                               Throughout these areas, a limited number of white matter tracts could be clearly identified in the in vivo images, including the anterior commissure (ac), optic tract (ot) and the inferior fronto-occipital fasciculus (ifo).  \n",
       "66  Figure 2. Coronal panels for detailed anatomical delineation of the amygdala using postmortem diffusion tensor imaging (DTI) and histology (Luxol fast blue with hematoxylin–eosin staining), compared with an example of in vivo T1 and DTI images. From the postmortem DTI data, b0, trace and color-coded orientation maps are shown at 14 coronal slice levels. Panels (A,B) were from a different postmortem coronal slab than (C–N). Panel (A) corresponds to the rostral end of the amygdala that defines 0 mm to indicate the slice separation of the subsequent panels, and panel (N) shows the caudal end (13 mm). The red bounding boxes represent a 24 × 20 mm field of view at the corresponding locations on the in vivo and postmortem images with the MNI coordinates (s, sagittal; a, axial; c, coronal). Colored arrows indicate the locations of the reconstructed white matter structures shown in Figure 3. White arrows indicate the semiannular sulcus (amygdaloid fissure) defining the medial boundary of the amygdala. Abbreviations: A, amygdala; BL, basolateral amygdaloid nucleus; BN, basal nucleus diffuse part; BM, basomedial nucleus; Ce, central nucleus; CL, claustrum; CxA, amygdalocortical transition area; EGP, external globus pallidus; Epn, endopiriform nucleus; ERC, entorhinal cortex; GP, globus pallidus; H, hippocampus; HT, hypothalamus; IGP, internal globus pallidus; LA, lateral nucleus; Me, medial nucleus; PedL, peduncle of the lentiform nucleus; Pir, piriform cortex; PL, paralaminar nucleus; Put, putamen; S, subiculum; sCLA, superficial cortex-like amygdala; SN, substantia nigra; TCd, tail of caudate; UN, uncus; VP, ventral putamen; ac, anterior commissure; al, ansa lenticularis; alv, alveus; cp, cerebral peduncle; ifo, inferior fronto-occipital fasciculus; ilf, inferior longitudinal fasciculus; li, intermediate medullary lamina; ll, lateral medullary lamina; lm, medial medullary lamina; ot, optic tract; slic, sublenticular part of the internal capsule; sls, sublenticular stria; st, stria terminalis; tap, tapetum; unc, uncinated fasciculus.  \n",
       "66                                                                                                                                                                                                                                                                                                                                                                                                                                                                                                                                                                                                                                                                                                                                                                                                                                                                                                                                                                                                                                                                                                                                                                                                                                                                                                                                                                                                                                                                                                                                                                                                                                                                                                                                                                                                                                                                                                               Throughout these areas, a limited number of white matter tracts could be clearly identified in the in vivo images, including the anterior commissure (ac), optic tract (ot) and the inferior fronto-occipital fasciculus (ifo).  \n",
       "10                                                                                                                                                                                                                                                                                                                                                                                                                                                                                                                                                                                                                                                                                                                                                                                                                                                                                                                                                                                                                                                                                                                                                                                                                                                                                                                                                                                                                 These canonical tracts have been widely described in other works, with the SLF constrained to the superior-medial white matter of the frontal and parietal lobes, the ILF to the temporal and occipital, the Arc connecting temporal and frontal lobes, and the IFOF spanning the occipital, temporal, and frontal white matter (Fig. 3).Consistent with previous reports (de Schotten et al. 2011; Catani and de Schotten 2012), we show canonical tracts extending posteriorly into the parietal, temporal, and occipital lobes, and anteriorly either toward prefrontal cortex [SLF, Arc (Makris et al. 2004; Martino et al. 2013b); IFOF (Martino et al. 2010a, b)] or into the anterior temporal lobe (ILF; Davis 1921).  "
      ]
     },
     "execution_count": 3,
     "metadata": {},
     "output_type": "execute_result"
    }
   ],
   "source": [
    "#pull out the relevant columns and expand the description entries\n",
    "descriptionTable=wholeDBDF.loc[qgrid_widget.get_changed_df().index,['title','descriptions']].explode('descriptions')\n",
    "descriptionTable.dropna(axis=0, inplace=True)\n",
    "\n",
    "from pyWMAD import scrape\n",
    "#convert the regex based urls to text\n",
    "descriptionTable['descriptions']=descriptionTable['descriptions'].map(lambda x: scrape.extractGoogleHighlightLinkText(x))\n",
    "#set it to \n",
    "pd.set_option('display.max_colwidth', None)\n",
    "pd.set_option('display.max_rows', 500)\n",
    "descriptionTable"
   ]
  },
  {
   "cell_type": "markdown",
   "id": "65d7bcc9",
   "metadata": {},
   "source": [
    "### Viewing Figures\n",
    "\n",
    "Similar to the previous cell, by running the following cell we can view records associated with **graphical depictions** of the structures of interest.  As these are **images** the interface will be slightly different than the previous cell.  Use the slider to select which image you wish to view. \n",
    "\n",
    "NOTE: In some cases a text description may not have been associated with the structure recording, and as such a record may be empty (or an error might occur).  Additionally, some publishers implement more stringent access criteria than others which may prevent access with the methods in use here."
   ]
  },
  {
   "cell_type": "code",
   "execution_count": 5,
   "id": "e443a3be",
   "metadata": {},
   "outputs": [
    {
     "data": {
      "application/vnd.jupyter.widget-view+json": {
       "model_id": "a8f5fe121a5540b188fa40c6a639f056",
       "version_major": 2,
       "version_minor": 0
      },
      "text/plain": [
       "interactive(children=(IntSlider(value=0, continuous_update=False, description='Figure Index', max=9), Output()…"
      ]
     },
     "metadata": {},
     "output_type": "display_data"
    },
    {
     "data": {
      "text/plain": [
       "<function __main__.plotTableFig(figTableIndex)>"
      ]
     },
     "execution_count": 5,
     "metadata": {},
     "output_type": "execute_result"
    }
   ],
   "source": [
    "#create the figure table\n",
    "figureTable=wholeDBDF.loc[qgrid_widget.get_changed_df().index,['title','figures']].explode('figures')\n",
    "figureTable.dropna(axis=0, inplace=True)\n",
    "#import ipywidgets and make slider widget\n",
    "from ipywidgets import IntSlider\n",
    "figureSlider=IntSlider( value=0, min=0, max=figureTable.shape[0]-1,  step=1, description='Figure Index', continuous_update=False)\n",
    "#define the widget function\n",
    "def plotTableFig(figTableIndex):\n",
    "    currentFigURL=figureTable['figures'].iloc[figTableIndex]\n",
    "    from pyWMAD import scrape\n",
    "    outFig=scrape.queryImage(currentFigURL)\n",
    "    display(outFig)\n",
    "#implement interactive widget\n",
    "from ipywidgets import interact\n",
    "interact(plotTableFig,figTableIndex=figureSlider)"
   ]
  }
 ],
 "metadata": {
  "kernelspec": {
   "display_name": "Python 3",
   "language": "python",
   "name": "python3"
  },
  "language_info": {
   "codemirror_mode": {
    "name": "ipython",
    "version": 3
   },
   "file_extension": ".py",
   "mimetype": "text/x-python",
   "name": "python",
   "nbconvert_exporter": "python",
   "pygments_lexer": "ipython3",
   "version": "3.9.6"
  }
 },
 "nbformat": 4,
 "nbformat_minor": 5
}
