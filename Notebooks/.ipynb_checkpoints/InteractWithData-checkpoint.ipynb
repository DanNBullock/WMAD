{
 "cells": [
  {
   "cell_type": "markdown",
   "id": "34f34dc2",
   "metadata": {},
   "source": [
    "[text introduction]"
   ]
  },
  {
   "cell_type": "code",
   "execution_count": 111,
   "id": "6da0f0c0",
   "metadata": {},
   "outputs": [
    {
     "data": {
      "application/vnd.jupyter.widget-view+json": {
       "model_id": "ae7d2566a66646e3984303752b27f1d7",
       "version_major": 2,
       "version_minor": 0
      },
      "text/plain": [
       "interactive(children=(Dropdown(description='Article Title Stem', index=1, options=(('Associative white matter …"
      ]
     },
     "metadata": {},
     "output_type": "display_data"
    },
    {
     "data": {
      "text/plain": [
       "<function __main__.printBasicDocInfo(listIndex)>"
      ]
     },
     "execution_count": 111,
     "metadata": {},
     "output_type": "execute_result"
    }
   ],
   "source": [
    "import subprocess\n",
    "import pandas as pd\n",
    "import itables\n",
    "import os\n",
    "import json\n",
    "from ipywidgets import Dropdown\n",
    "from ipywidgets import interact, interactive, fixed, interact_manual\n",
    "import glob\n",
    "from IPython.core.display import Image, display\n",
    "\n",
    "\n",
    "#get top directory path of the current git repository, under the presumption that \n",
    "#the notebook was launched from within the repo directory\n",
    "gitRepoPath=subprocess.check_output(['git', 'rev-parse', '--show-toplevel']).decode('ascii').strip()\n",
    "\n",
    "#move to the top of the directory\n",
    "os.chdir(gitRepoPath)\n",
    "\n",
    "#find json files for completed articles\n",
    "targetJSONS = glob.glob('documentDir'+ \"/**/doc.json\", recursive = True)\n",
    "\n",
    "#extract titles for dropdown menu\n",
    "recordTitles=[]\n",
    "for iJSONs in targetJSONS:\n",
    "    with open(jsonPath) as json_data:\n",
    "        data = json.load(json_data)\n",
    "    recordTitles.append(data['title'][0][0:50])\n",
    "\n",
    "#define quick look function\n",
    "def printBasicDocInfo(listIndex):\n",
    "    with open(targetJSONS[listIndex]) as json_data:\n",
    "        data = json.load(json_data)\n",
    "    print('Curated by: ' + data['curator']['1'] + '\\n')\n",
    "    print(data['title'][0] + '\\n')\n",
    "    print('First author: ' + data['author'][0]['given']+ ' ' + data['author'][0]['family'] +  '\\n')\n",
    "    print('Publication date: ' + str(data['published']['date-parts'][0]) + '\\n')\n",
    "    print('Number of tracts discussed: ' + str(len(data['tractDepictions'])))\n",
    "\n",
    "#create selection list for article names    \n",
    "dropDownDocList=list(zip(recordTitles, list(range(len(recordTitles)))))\n",
    "\n",
    "#create interactive button for article\n",
    "\n",
    "style = {'description_width': 'initial'}\n",
    "listIndex=Dropdown(options=dropDownDocList, value=1, description=\"Article Title Stem\",style=style)\n",
    "interact(printBasicDocInfo, listIndex=listIndex)"
   ]
  },
  {
   "cell_type": "markdown",
   "id": "68c07b98",
   "metadata": {},
   "source": [
    "[description of previous and guide to interacting with second component]"
   ]
  },
  {
   "cell_type": "code",
   "execution_count": 115,
   "id": "754295e5",
   "metadata": {},
   "outputs": [
    {
     "data": {
      "application/vnd.jupyter.widget-view+json": {
       "model_id": "8dbba9eb06bb4edfa8b6848d945d1839",
       "version_major": 2,
       "version_minor": 0
      },
      "text/plain": [
       "interactive(children=(Dropdown(description='Article Title Stem', index=1, options=(('Associative white matter …"
      ]
     },
     "metadata": {},
     "output_type": "display_data"
    },
    {
     "data": {
      "text/plain": [
       "<function __main__.viewTractsInRecord(listIndex, tractIndex)>"
      ]
     },
     "execution_count": 115,
     "metadata": {},
     "output_type": "execute_result"
    }
   ],
   "source": [
    "def tractNamesFromJSONdata(docJSONdata):\n",
    "    tractNameList=[]\n",
    "    for iTracts in range(len(data['tractDepictions'])):\n",
    "        tractNameList.append(data['tractDepictions'][list(data['tractDepictions'].keys())[iTracts]]['tractTermsUsed']['1'])\n",
    "    return (tractNameList)\n",
    "\n",
    "def viewTractsInRecord(listIndex,tractIndex):\n",
    "    with open(targetJSONS[listIndex]) as json_data:\n",
    "        data = json.load(json_data)\n",
    "    intermediaryData=data['tractDepictions'][list(data['tractDepictions'].keys())[tractIndex]]\n",
    "    print(json.dumps(intermediaryData, indent=4))\n",
    "\n",
    "def loadTractNamesFromListIndex(listIndexNum):\n",
    "    with open(targetJSONS[listIndexNum]) as json_data:\n",
    "        data = json.load(json_data)\n",
    "    outList=tractNamesFromJSONdata(data)\n",
    "    return outList\n",
    "    \n",
    "    \n",
    "listIndex=Dropdown(options=dropDownDocList, value=1, description=\"Article Title Stem\",style=style)\n",
    "tractIndex=Dropdown(options=list(zip(loadTractNamesFromListIndex(listIndex.value), list(range(len(loadTractNamesFromListIndex(listIndex.value)))))), value=1, description=\"tractNames\",style=style)\n",
    "\n",
    "interact(viewTractsInRecord,listIndex=listIndex,tractIndex=tractIndex)"
   ]
  },
  {
   "cell_type": "code",
   "execution_count": null,
   "id": "a5cded98",
   "metadata": {},
   "outputs": [],
   "source": []
  },
  {
   "cell_type": "code",
   "execution_count": 100,
   "id": "bee6d835",
   "metadata": {},
   "outputs": [
    {
     "name": "stdout",
     "output_type": "stream",
     "text": [
      "{'tractTermsUsed': {'1': 'inferior longitudinal fasciculus', '2': 'ILF'}, 'descriptions': {'1': 'https://link.springer.com/article/10.1007%2Fs00429-019-01907-8#:~:text=These%20canonical%20tracts%20have,lobe%20(ILF%3B%20Davis%201921).', '2': 'https://link.springer.com/article/10.1007%2Fs00429-019-01907-8#:~:text=In%20addition%2C%20the%20occipital%20lobe%20connects%20to%20the%20anterior%20temporal%20lobe%20via%20the%20ILF%20(Fig.%C2%A04a%20blue)', '3': 'https://link.springer.com/article/10.1007%2Fs00429-019-01907-8#:~:text=Finally%2C%20the%20MdLF,of%20the%20ILF.', '4': 'https://link.springer.com/article/10.1007%2Fs00429-019-01907-8#:~:text=We%20further%20note,Figs.%C2%A013%2C%2016).'}, 'figures': {'1': 'https://media.springernature.com/full/springer-static/image/art%3A10.1007%2Fs00429-019-01907-8/MediaObjects/429_2019_1907_Fig1_HTML.png?as=webp', '2': 'https://media.springernature.com/full/springer-static/image/art%3A10.1007%2Fs00429-019-01907-8/MediaObjects/429_2019_1907_Fig3_HTML.png?as=webp', '3': 'https://media.springernature.com/full/springer-static/image/art%3A10.1007%2Fs00429-019-01907-8/MediaObjects/429_2019_1907_Fig4_HTML.png?as=webp', '4': 'https://media.springernature.com/full/springer-static/image/art%3A10.1007%2Fs00429-019-01907-8/MediaObjects/429_2019_1907_Fig16_HTML.png?as=webp'}}\n"
     ]
    }
   ],
   "source": [
    "def viewFigures(listIndex,tractIndex,figIndex):\n",
    "    with open(targetJSONS[listIndex]) as json_data:\n",
    "        data = json.load(json_data)\n",
    "    intermediaryData=data['tractDepictions'][list(data['tractDepictions'].keys())[tractIndex]]\n",
    "    figLinks=intermediaryData['figures']\n",
    "    print(json.dumps(intermediaryData, indent=4))"
   ]
  },
  {
   "cell_type": "code",
   "execution_count": 117,
   "id": "8378b6ee",
   "metadata": {},
   "outputs": [
    {
     "data": {
      "text/html": [
       "<img src=\"https://media.springernature.com/full/springer-static/image/art%3A10.1007%2Fs00429-019-01907-8/MediaObjects/429_2019_1907_Fig1_HTML.png?as=webp\"/>"
      ],
      "text/plain": [
       "<IPython.core.display.Image object>"
      ]
     },
     "metadata": {},
     "output_type": "display_data"
    }
   ],
   "source": [
    "\n",
    "testUrL=data['tractDepictions'][list(data['tractDepictions'].keys())[0]]['figures']['1']\n",
    "from IPython.core.display import Image, display\n",
    "display(Image(url=testUrL))"
   ]
  },
  {
   "cell_type": "code",
   "execution_count": null,
   "id": "9bba00a4",
   "metadata": {},
   "outputs": [],
   "source": [
    "int_range = widgets.IntSlider()\n",
    "output2 = widgets.Output()\n",
    "\n",
    "display(int_range, output2)\n",
    "\n",
    "def on_value_change(change):\n",
    "    with output2:\n",
    "        print(change['new'])\n",
    "\n",
    "int_range.observe(on_value_change, names='value')"
   ]
  },
  {
   "cell_type": "code",
   "execution_count": 39,
   "id": "27289468",
   "metadata": {},
   "outputs": [],
   "source": [
    "def printBasicDocInfo(listIndex):\n",
    "    with open(targetJSONS[listIndex]) as json_data:\n",
    "        data = json.load(json_data)\n",
    "    print('Curated by: ' + data['curator']['1'] + '\\n')\n",
    "    print(data['title'][0] + '\\n')\n",
    "    print('First author: ' + data['author'][0]['given']+ ' ' + data['author'][0]['family'] +  '\\n')\n",
    "    print('Publication date: ' + str(data['published']['date-parts'][0]) + '\\n')\n",
    "    print('Number of tracts discussed: ' + str(len(data['tractDepictions'])))\n"
   ]
  },
  {
   "cell_type": "code",
   "execution_count": 121,
   "id": "8ebe56e9",
   "metadata": {},
   "outputs": [
    {
     "name": "stdout",
     "output_type": "stream",
     "text": [
      "https://link.springer.com/article/10.1007%2Fs00429-019-01907-8#:~:text=We%20further%20note,Figs.%C2%A013%2C%2016\n"
     ]
    }
   ],
   "source": [
    "testHighlightURL='https://link.springer.com/article/10.1007%2Fs00429-019-01907-8#:~:text=We%20further%20note,Figs.%C2%A013%2C%2016'\n",
    "print(testHighlightURL)\n",
    "import re"
   ]
  },
  {
   "cell_type": "code",
   "execution_count": 119,
   "id": "88ed5a7a",
   "metadata": {},
   "outputs": [
    {
     "ename": "ModuleNotFoundError",
     "evalue": "No module named 'urllib2'",
     "output_type": "error",
     "traceback": [
      "\u001b[1;31m---------------------------------------------------------------------------\u001b[0m",
      "\u001b[1;31mModuleNotFoundError\u001b[0m                       Traceback (most recent call last)",
      "\u001b[1;32m<ipython-input-119-846c1dbd158b>\u001b[0m in \u001b[0;36m<module>\u001b[1;34m\u001b[0m\n\u001b[1;32m----> 1\u001b[1;33m \u001b[1;32mimport\u001b[0m \u001b[0murllib2\u001b[0m\u001b[1;33m\u001b[0m\u001b[1;33m\u001b[0m\u001b[0m\n\u001b[0m",
      "\u001b[1;31mModuleNotFoundError\u001b[0m: No module named 'urllib2'"
     ]
    }
   ],
   "source": [
    "def decodeGoogleHighlight(inputURL)\n",
    "    highlightTag='#:~:text='\n",
    "    searchPhrase='(?<='+highlightTag+').*$'\n",
    "    prog = re.compile(searchPhrase)\n",
    "    result = prog.search(testHighlightURL)\n",
    "    if regexComponents.contains(','):\n",
    "        regexComponents=regexComponents.split(',')\n",
    "        regexComponents[0]=urllib2.unquote(regexComponents[0])\n",
    "        regexComponents[1]=urllib2.unquote(regexComponents[1])\n",
    "    else:\n",
    "        regexComponents=urllib2.unquote(regexComponents)\n",
    "    return(regexComponents)\n",
    "\n",
    "from bs4 import BeautifulSoup\n",
    "soup = BeautifulSoup(html)\n",
    "print(soup.get_text())\n"
   ]
  },
  {
   "cell_type": "code",
   "execution_count": 135,
   "id": "178a0dfe",
   "metadata": {},
   "outputs": [
    {
     "name": "stdout",
     "output_type": "stream",
     "text": [
      "(?<=#:~:text=).*$\n",
      "We%20further%20note,Figs.%C2%A013%2C%2016\n"
     ]
    }
   ],
   "source": [
    "highlightTag='#:~:text='\n",
    "searchPhrase='(?<='+highlightTag+').*$'\n",
    "prog = re.compile(searchPhrase)\n",
    "result = prog.search(testHighlightURL)\n",
    "print(result.group(0))"
   ]
  },
  {
   "cell_type": "code",
   "execution_count": 10,
   "id": "4fe67da9",
   "metadata": {},
   "outputs": [
    {
     "name": "stdout",
     "output_type": "stream",
     "text": [
      "dict_keys(['curator', 'doi', 'species', 'methods', 'title', 'author', 'published', 'container-title', 'publisher', 'license', 'tractDepictions'])\n"
     ]
    }
   ],
   "source": [
    "#get path to the document directory\n",
    "jsonPath=os.path.join('documentDir','doc1','doc.json')\n",
    "\n",
    "#find available target doc JSON files\n",
    "\n",
    "with open(jsonPath) as json_data:\n",
    "    data = json.load(json_data)\n",
    "    \n",
    "dropDownList=list(data.keys())"
   ]
  },
  {
   "cell_type": "code",
   "execution_count": null,
   "id": "b12df074",
   "metadata": {},
   "outputs": [],
   "source": []
  }
 ],
 "metadata": {
  "kernelspec": {
   "display_name": "Python 3",
   "language": "python",
   "name": "python3"
  },
  "language_info": {
   "codemirror_mode": {
    "name": "ipython",
    "version": 3
   },
   "file_extension": ".py",
   "mimetype": "text/x-python",
   "name": "python",
   "nbconvert_exporter": "python",
   "pygments_lexer": "ipython3",
   "version": "3.9.6"
  }
 },
 "nbformat": 4,
 "nbformat_minor": 5
}
